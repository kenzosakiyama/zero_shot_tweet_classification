{
 "cells": [
  {
   "cell_type": "markdown",
   "source": [
    "# Avaliação do desempenho de um classificador Zero-shot na tarefa de análise de sentimentos\n",
    "\n",
    "Neste notebook será apresentada uma comparação de um analisador de sentimentos Zero-shot em relação à outros dois dois classificadores baseador em *Transformers*: Bertimbau e PTT5. Os modelos são baseados nos modelos BERT e T5 respectivamente, e foram ajustados para trabalhar com texto em português brasileiro. Além disto, os modelos foram pré-treinados no conjunto de tweets TweetSentBr para realização da tarefa de análise de sentimentos.\n"
   ],
   "metadata": {}
  },
  {
   "cell_type": "code",
   "execution_count": 1,
   "source": [
    "import pandas as pd\n",
    "import seaborn as sns\n",
    "import os\n",
    "from sklearn.metrics import classification_report\n",
    "import matplotlib.pyplot as plt\n",
    "\n",
    "%matplotlib inline"
   ],
   "outputs": [],
   "metadata": {}
  },
  {
   "cell_type": "code",
   "execution_count": 2,
   "source": [
    "sns.set(rc={'figure.figsize':(10, 10)})"
   ],
   "outputs": [],
   "metadata": {}
  },
  {
   "cell_type": "code",
   "execution_count": 3,
   "source": [
    "predictions_path = \"data/predictions\""
   ],
   "outputs": [],
   "metadata": {}
  },
  {
   "cell_type": "markdown",
   "source": [
    "# Definindo função auxiliar para leitura de arquivos de predição"
   ],
   "metadata": {}
  },
  {
   "cell_type": "code",
   "execution_count": 4,
   "source": [
    "def load_metrics(use_binary: bool, average: str = \"macro\") -> pd.DataFrame:\n",
    "    \n",
    "    # Leitura e cálculo de métricas a partir dos arquivos\n",
    "    suffix = \"_binary_preds.csv\" if use_binary else \\\n",
    "             \"_all_classes_preds.csv\"\n",
    "\n",
    "    results_df = pd.DataFrame()         \n",
    "\n",
    "    for file in os.listdir(predictions_path):\n",
    "        if suffix not in file: continue\n",
    "\n",
    "        model_name = file.replace(suffix, \"\")\n",
    "        df = pd.read_csv(os.path.join(predictions_path, file), index_col=0)\n",
    "\n",
    "        real = df[\"label\"] \n",
    "        preds = df[\"prediction\"]\n",
    "        metrics_dict = classification_report(real, preds, output_dict=True)\n",
    "\n",
    "        results_df = results_df.append(\n",
    "            {\n",
    "                \"Model\": model_name,\n",
    "                \"Accuracy\": metrics_dict[\"accuracy\"],\n",
    "                \"Precision\": metrics_dict[\"macro avg\"][\"precision\"],\n",
    "                \"Recall\": metrics_dict[\"macro avg\"][\"recall\"],\n",
    "                \"F1\": metrics_dict[\"macro avg\"][\"f1-score\"]\n",
    "            },\n",
    "            ignore_index=True\n",
    "        )\n",
    "    \n",
    "    return results_df.set_index(\"Model\").sort_index()\n",
    "\n"
   ],
   "outputs": [],
   "metadata": {}
  },
  {
   "cell_type": "markdown",
   "source": [
    "# Analisando predições\n",
    "\n",
    "Comparando métricas obtidas usando duas e três classes. Métricas obtidas através de média Macro."
   ],
   "metadata": {}
  },
  {
   "cell_type": "code",
   "execution_count": 5,
   "source": [
    "binary_df = load_metrics(True).sort_values(by=\"F1\")\n",
    "all_classes_df = load_metrics(False).sort_values(by=\"F1\")"
   ],
   "outputs": [],
   "metadata": {}
  },
  {
   "cell_type": "code",
   "execution_count": 6,
   "source": [
    "binary_df"
   ],
   "outputs": [
    {
     "output_type": "execute_result",
     "data": {
      "text/html": [
       "<div>\n",
       "<style scoped>\n",
       "    .dataframe tbody tr th:only-of-type {\n",
       "        vertical-align: middle;\n",
       "    }\n",
       "\n",
       "    .dataframe tbody tr th {\n",
       "        vertical-align: top;\n",
       "    }\n",
       "\n",
       "    .dataframe thead th {\n",
       "        text-align: right;\n",
       "    }\n",
       "</style>\n",
       "<table border=\"1\" class=\"dataframe\">\n",
       "  <thead>\n",
       "    <tr style=\"text-align: right;\">\n",
       "      <th></th>\n",
       "      <th>Accuracy</th>\n",
       "      <th>Precision</th>\n",
       "      <th>Recall</th>\n",
       "      <th>F1</th>\n",
       "    </tr>\n",
       "    <tr>\n",
       "      <th>Model</th>\n",
       "      <th></th>\n",
       "      <th></th>\n",
       "      <th></th>\n",
       "      <th></th>\n",
       "    </tr>\n",
       "  </thead>\n",
       "  <tbody>\n",
       "    <tr>\n",
       "      <th>KNN-tfidf</th>\n",
       "      <td>0.668845</td>\n",
       "      <td>0.745406</td>\n",
       "      <td>0.588476</td>\n",
       "      <td>0.553224</td>\n",
       "    </tr>\n",
       "    <tr>\n",
       "      <th>KNN-bow</th>\n",
       "      <td>0.656863</td>\n",
       "      <td>0.664895</td>\n",
       "      <td>0.587797</td>\n",
       "      <td>0.567651</td>\n",
       "    </tr>\n",
       "    <tr>\n",
       "      <th>KNN-fast_text</th>\n",
       "      <td>0.714597</td>\n",
       "      <td>0.702776</td>\n",
       "      <td>0.686995</td>\n",
       "      <td>0.691137</td>\n",
       "    </tr>\n",
       "    <tr>\n",
       "      <th>RF-fast_text</th>\n",
       "      <td>0.741285</td>\n",
       "      <td>0.731426</td>\n",
       "      <td>0.718089</td>\n",
       "      <td>0.722390</td>\n",
       "    </tr>\n",
       "    <tr>\n",
       "      <th>RF-tfidf</th>\n",
       "      <td>0.755991</td>\n",
       "      <td>0.749530</td>\n",
       "      <td>0.730499</td>\n",
       "      <td>0.736105</td>\n",
       "    </tr>\n",
       "    <tr>\n",
       "      <th>RF-bow</th>\n",
       "      <td>0.765795</td>\n",
       "      <td>0.765490</td>\n",
       "      <td>0.735535</td>\n",
       "      <td>0.742890</td>\n",
       "    </tr>\n",
       "    <tr>\n",
       "      <th>SVC-fast_text</th>\n",
       "      <td>0.776144</td>\n",
       "      <td>0.769484</td>\n",
       "      <td>0.755473</td>\n",
       "      <td>0.760374</td>\n",
       "    </tr>\n",
       "    <tr>\n",
       "      <th>MLP-fast_text</th>\n",
       "      <td>0.774510</td>\n",
       "      <td>0.764436</td>\n",
       "      <td>0.762885</td>\n",
       "      <td>0.763624</td>\n",
       "    </tr>\n",
       "    <tr>\n",
       "      <th>KNN-bert</th>\n",
       "      <td>0.784314</td>\n",
       "      <td>0.780540</td>\n",
       "      <td>0.761288</td>\n",
       "      <td>0.767480</td>\n",
       "    </tr>\n",
       "    <tr>\n",
       "      <th>zero_shot</th>\n",
       "      <td>0.775599</td>\n",
       "      <td>0.765755</td>\n",
       "      <td>0.770657</td>\n",
       "      <td>0.767727</td>\n",
       "    </tr>\n",
       "    <tr>\n",
       "      <th>SVC-bow</th>\n",
       "      <td>0.786492</td>\n",
       "      <td>0.780201</td>\n",
       "      <td>0.767355</td>\n",
       "      <td>0.772059</td>\n",
       "    </tr>\n",
       "    <tr>\n",
       "      <th>SVC-tfidf</th>\n",
       "      <td>0.791939</td>\n",
       "      <td>0.785035</td>\n",
       "      <td>0.774944</td>\n",
       "      <td>0.778891</td>\n",
       "    </tr>\n",
       "    <tr>\n",
       "      <th>RF-bert</th>\n",
       "      <td>0.796296</td>\n",
       "      <td>0.795137</td>\n",
       "      <td>0.772628</td>\n",
       "      <td>0.779695</td>\n",
       "    </tr>\n",
       "    <tr>\n",
       "      <th>MLP-tfidf</th>\n",
       "      <td>0.797930</td>\n",
       "      <td>0.790595</td>\n",
       "      <td>0.782983</td>\n",
       "      <td>0.786145</td>\n",
       "    </tr>\n",
       "    <tr>\n",
       "      <th>MLP-bow</th>\n",
       "      <td>0.803922</td>\n",
       "      <td>0.795488</td>\n",
       "      <td>0.793154</td>\n",
       "      <td>0.794253</td>\n",
       "    </tr>\n",
       "    <tr>\n",
       "      <th>MLP-bert</th>\n",
       "      <td>0.833333</td>\n",
       "      <td>0.828516</td>\n",
       "      <td>0.820106</td>\n",
       "      <td>0.823661</td>\n",
       "    </tr>\n",
       "    <tr>\n",
       "      <th>SVC-bert</th>\n",
       "      <td>0.843137</td>\n",
       "      <td>0.835960</td>\n",
       "      <td>0.836276</td>\n",
       "      <td>0.836117</td>\n",
       "    </tr>\n",
       "    <tr>\n",
       "      <th>ptt5</th>\n",
       "      <td>0.863290</td>\n",
       "      <td>0.857054</td>\n",
       "      <td>0.857222</td>\n",
       "      <td>0.857138</td>\n",
       "    </tr>\n",
       "    <tr>\n",
       "      <th>bertimbau</th>\n",
       "      <td>0.872004</td>\n",
       "      <td>0.866622</td>\n",
       "      <td>0.865384</td>\n",
       "      <td>0.865989</td>\n",
       "    </tr>\n",
       "  </tbody>\n",
       "</table>\n",
       "</div>"
      ],
      "text/plain": [
       "               Accuracy  Precision    Recall        F1\n",
       "Model                                                 \n",
       "KNN-tfidf      0.668845   0.745406  0.588476  0.553224\n",
       "KNN-bow        0.656863   0.664895  0.587797  0.567651\n",
       "KNN-fast_text  0.714597   0.702776  0.686995  0.691137\n",
       "RF-fast_text   0.741285   0.731426  0.718089  0.722390\n",
       "RF-tfidf       0.755991   0.749530  0.730499  0.736105\n",
       "RF-bow         0.765795   0.765490  0.735535  0.742890\n",
       "SVC-fast_text  0.776144   0.769484  0.755473  0.760374\n",
       "MLP-fast_text  0.774510   0.764436  0.762885  0.763624\n",
       "KNN-bert       0.784314   0.780540  0.761288  0.767480\n",
       "zero_shot      0.775599   0.765755  0.770657  0.767727\n",
       "SVC-bow        0.786492   0.780201  0.767355  0.772059\n",
       "SVC-tfidf      0.791939   0.785035  0.774944  0.778891\n",
       "RF-bert        0.796296   0.795137  0.772628  0.779695\n",
       "MLP-tfidf      0.797930   0.790595  0.782983  0.786145\n",
       "MLP-bow        0.803922   0.795488  0.793154  0.794253\n",
       "MLP-bert       0.833333   0.828516  0.820106  0.823661\n",
       "SVC-bert       0.843137   0.835960  0.836276  0.836117\n",
       "ptt5           0.863290   0.857054  0.857222  0.857138\n",
       "bertimbau      0.872004   0.866622  0.865384  0.865989"
      ]
     },
     "metadata": {},
     "execution_count": 6
    }
   ],
   "metadata": {}
  },
  {
   "cell_type": "code",
   "execution_count": 7,
   "source": [
    "all_classes_df"
   ],
   "outputs": [
    {
     "output_type": "execute_result",
     "data": {
      "text/html": [
       "<div>\n",
       "<style scoped>\n",
       "    .dataframe tbody tr th:only-of-type {\n",
       "        vertical-align: middle;\n",
       "    }\n",
       "\n",
       "    .dataframe tbody tr th {\n",
       "        vertical-align: top;\n",
       "    }\n",
       "\n",
       "    .dataframe thead th {\n",
       "        text-align: right;\n",
       "    }\n",
       "</style>\n",
       "<table border=\"1\" class=\"dataframe\">\n",
       "  <thead>\n",
       "    <tr style=\"text-align: right;\">\n",
       "      <th></th>\n",
       "      <th>Accuracy</th>\n",
       "      <th>Precision</th>\n",
       "      <th>Recall</th>\n",
       "      <th>F1</th>\n",
       "    </tr>\n",
       "    <tr>\n",
       "      <th>Model</th>\n",
       "      <th></th>\n",
       "      <th></th>\n",
       "      <th></th>\n",
       "      <th></th>\n",
       "    </tr>\n",
       "  </thead>\n",
       "  <tbody>\n",
       "    <tr>\n",
       "      <th>zero_shot</th>\n",
       "      <td>0.590337</td>\n",
       "      <td>0.559107</td>\n",
       "      <td>0.538542</td>\n",
       "      <td>0.509301</td>\n",
       "    </tr>\n",
       "    <tr>\n",
       "      <th>ptt5</th>\n",
       "      <td>0.719854</td>\n",
       "      <td>0.699780</td>\n",
       "      <td>0.690627</td>\n",
       "      <td>0.691299</td>\n",
       "    </tr>\n",
       "    <tr>\n",
       "      <th>bertimbau</th>\n",
       "      <td>0.721478</td>\n",
       "      <td>0.698060</td>\n",
       "      <td>0.695480</td>\n",
       "      <td>0.696104</td>\n",
       "    </tr>\n",
       "  </tbody>\n",
       "</table>\n",
       "</div>"
      ],
      "text/plain": [
       "           Accuracy  Precision    Recall        F1\n",
       "Model                                             \n",
       "zero_shot  0.590337   0.559107  0.538542  0.509301\n",
       "ptt5       0.719854   0.699780  0.690627  0.691299\n",
       "bertimbau  0.721478   0.698060  0.695480  0.696104"
      ]
     },
     "metadata": {},
     "execution_count": 7
    }
   ],
   "metadata": {}
  },
  {
   "cell_type": "code",
   "execution_count": 8,
   "source": [
    "binary_df.plot.barh(rot=0)"
   ],
   "outputs": [
    {
     "output_type": "execute_result",
     "data": {
      "text/plain": [
       "<matplotlib.axes._subplots.AxesSubplot at 0x7f0b86ac6450>"
      ]
     },
     "metadata": {},
     "execution_count": 8
    },
    {
     "output_type": "display_data",
     "data": {
      "image/png": "[encoded data removed]",
      "text/plain": [
       "<Figure size 720x720 with 1 Axes>"
      ]
     },
     "metadata": {}
    }
   ],
   "metadata": {}
  },
  {
   "cell_type": "code",
   "execution_count": 11,
   "source": [
    "binary_df.to_csv(\"data/metricas_compiladas.csv\")"
   ],
   "outputs": [],
   "metadata": {}
  },
  {
   "cell_type": "code",
   "execution_count": 9,
   "source": [
    "all_classes_df.plot.bar(rot=0, xlabel=\"All classes\")"
   ],
   "outputs": [
    {
     "output_type": "execute_result",
     "data": {
      "text/plain": [
       "<matplotlib.axes._subplots.AxesSubplot at 0x7f0b856b0c10>"
      ]
     },
     "metadata": {},
     "execution_count": 9
    },
    {
     "output_type": "display_data",
     "data": {
      "image/png": "[encoded data removed]",
      "text/plain": [
       "<Figure size 720x720 with 1 Axes>"
      ]
     },
     "metadata": {}
    }
   ],
   "metadata": {}
  },
  {
   "cell_type": "code",
   "execution_count": 10,
   "source": [
    "# fig, axes = plt.subplots(1,2)\n",
    "\n",
    "# binary_df.plot.bar(rot=0, ax=axes[0], xlabel=\"Binary\")\n",
    "# axes[0].legend().set_visible(False)\n",
    "# all_classes_df.plot.bar(rot=0, ax=axes[1], xlabel=\"All classes\")\n",
    "# # axes[1].get_yaxis().set_visible(False)"
   ],
   "outputs": [],
   "metadata": {}
  }
 ],
 "metadata": {
  "orig_nbformat": 4,
  "language_info": {
   "name": "python",
   "version": "3.7.11",
   "mimetype": "text/x-python",
   "codemirror_mode": {
    "name": "ipython",
    "version": 3
   },
   "pygments_lexer": "ipython3",
   "nbconvert_exporter": "python",
   "file_extension": ".py"
  },
  "kernelspec": {
   "name": "python3",
   "display_name": "Python 3.7.11 64-bit ('transformers': conda)"
  },
  "interpreter": {
   "hash": "c7d87c45efe9b51e1565fe98e10669b070dcdad2a728fa9151544667aca4bb7a"
  }
 },
 "nbformat": 4,
 "nbformat_minor": 2
}