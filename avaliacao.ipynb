{
 "cells": [
  {
   "cell_type": "markdown",
   "metadata": {},
   "source": [
    "# Avaliação do desempenho de um classificador Zero-shot na tarefa de análise de sentimentos\n",
    "\n",
    "Neste notebook será apresentada uma comparação de um analisador de sentimentos Zero-shot em relação à outros dois dois classificadores baseador em *Transformers*: Bertimbau e PTT5. Os modelos são baseados nos modelos BERT e T5 respectivamente, e foram ajustados para trabalhar com texto em português brasileiro. Além disto, os modelos foram pré-treinados no conjunto de tweets TweetSentBr para realização da tarefa de análise de sentimentos.\n"
   ]
  },
  {
   "cell_type": "code",
   "execution_count": 1,
   "metadata": {},
   "outputs": [],
   "source": [
    "import pandas as pd\n",
    "import seaborn as sns\n",
    "import os\n",
    "from sklearn.metrics import classification_report\n",
    "import matplotlib.pyplot as plt\n",
    "\n",
    "%matplotlib inline"
   ]
  },
  {
   "cell_type": "code",
   "execution_count": 2,
   "metadata": {},
   "outputs": [],
   "source": [
    "sns.set(rc={'figure.figsize':(13, 9)})"
   ]
  },
  {
   "cell_type": "code",
   "execution_count": 3,
   "metadata": {},
   "outputs": [],
   "source": [
    "predictions_path = \"data/predictions\""
   ]
  },
  {
   "cell_type": "markdown",
   "metadata": {},
   "source": [
    "# Definindo função auxiliar para leitura de arquivos de predição"
   ]
  },
  {
   "cell_type": "code",
   "execution_count": 4,
   "metadata": {},
   "outputs": [],
   "source": [
    "def load_metrics(use_binary: bool, average: str = \"macro\") -> pd.DataFrame:\n",
    "    \n",
    "    # Leitura e cálculo de métricas a partir dos arquivos\n",
    "    suffix = \"_binary_preds.csv\" if use_binary else \\\n",
    "             \"_all_classes_preds.csv\"\n",
    "\n",
    "    results_df = pd.DataFrame()         \n",
    "\n",
    "    for file in os.listdir(predictions_path):\n",
    "        if \"multi\" in file: continue # ignorar ex do bert multilingual\n",
    "        if \"old\" in file: continue # ignorar ex antigo\n",
    "        if suffix not in file: continue\n",
    "\n",
    "        model_name = file.replace(suffix, \"\")\n",
    "        df = pd.read_csv(os.path.join(predictions_path, file), index_col=0)\n",
    "\n",
    "        real = df[\"label\"] \n",
    "        preds = df[\"prediction\"]\n",
    "        metrics_dict = classification_report(real, preds, output_dict=True)\n",
    "\n",
    "        results_df = results_df.append(\n",
    "            {\n",
    "                \"Modelo\": model_name,\n",
    "                \"Acurácia\": metrics_dict[\"accuracy\"],\n",
    "                \"Precisão\": metrics_dict[\"macro avg\"][\"precision\"],\n",
    "                \"Revocação\": metrics_dict[\"macro avg\"][\"recall\"],\n",
    "                \"F1\": metrics_dict[\"macro avg\"][\"f1-score\"]\n",
    "            },\n",
    "            ignore_index=True\n",
    "        )\n",
    "    \n",
    "    return results_df.set_index(\"Modelo\").sort_index()\n",
    "\n"
   ]
  },
  {
   "cell_type": "markdown",
   "metadata": {},
   "source": [
    "# Analisando predições\n",
    "\n",
    "Comparando métricas obtidas usando duas e três classes. Métricas obtidas através de média Macro."
   ]
  },
  {
   "cell_type": "code",
   "execution_count": 5,
   "metadata": {},
   "outputs": [],
   "source": [
    "binary_df = load_metrics(True).sort_values(by=\"F1\")\n",
    "all_classes_df = load_metrics(False).sort_values(by=\"F1\")"
   ]
  },
  {
   "cell_type": "code",
   "execution_count": 6,
   "metadata": {},
   "outputs": [
    {
     "data": {
      "text/html": [
       "<div>\n",
       "<style scoped>\n",
       "    .dataframe tbody tr th:only-of-type {\n",
       "        vertical-align: middle;\n",
       "    }\n",
       "\n",
       "    .dataframe tbody tr th {\n",
       "        vertical-align: top;\n",
       "    }\n",
       "\n",
       "    .dataframe thead th {\n",
       "        text-align: right;\n",
       "    }\n",
       "</style>\n",
       "<table border=\"1\" class=\"dataframe\">\n",
       "  <thead>\n",
       "    <tr style=\"text-align: right;\">\n",
       "      <th></th>\n",
       "      <th>Acurácia</th>\n",
       "      <th>Precisão</th>\n",
       "      <th>Revocação</th>\n",
       "      <th>F1</th>\n",
       "    </tr>\n",
       "    <tr>\n",
       "      <th>Modelo</th>\n",
       "      <th></th>\n",
       "      <th></th>\n",
       "      <th></th>\n",
       "      <th></th>\n",
       "    </tr>\n",
       "  </thead>\n",
       "  <tbody>\n",
       "    <tr>\n",
       "      <th>Bertimbau</th>\n",
       "      <td>0.872004</td>\n",
       "      <td>0.866622</td>\n",
       "      <td>0.865384</td>\n",
       "      <td>0.865989</td>\n",
       "    </tr>\n",
       "    <tr>\n",
       "      <th>PTT5</th>\n",
       "      <td>0.863290</td>\n",
       "      <td>0.857054</td>\n",
       "      <td>0.857222</td>\n",
       "      <td>0.857138</td>\n",
       "    </tr>\n",
       "    <tr>\n",
       "      <th>SVC-bert</th>\n",
       "      <td>0.843137</td>\n",
       "      <td>0.835960</td>\n",
       "      <td>0.836276</td>\n",
       "      <td>0.836117</td>\n",
       "    </tr>\n",
       "    <tr>\n",
       "      <th>MLP-bert</th>\n",
       "      <td>0.833333</td>\n",
       "      <td>0.828516</td>\n",
       "      <td>0.820106</td>\n",
       "      <td>0.823661</td>\n",
       "    </tr>\n",
       "    <tr>\n",
       "      <th>MLP-bow</th>\n",
       "      <td>0.803922</td>\n",
       "      <td>0.795488</td>\n",
       "      <td>0.793154</td>\n",
       "      <td>0.794253</td>\n",
       "    </tr>\n",
       "    <tr>\n",
       "      <th>MLP-tfidf</th>\n",
       "      <td>0.797930</td>\n",
       "      <td>0.790595</td>\n",
       "      <td>0.782983</td>\n",
       "      <td>0.786145</td>\n",
       "    </tr>\n",
       "    <tr>\n",
       "      <th>RF-bert</th>\n",
       "      <td>0.796296</td>\n",
       "      <td>0.795137</td>\n",
       "      <td>0.772628</td>\n",
       "      <td>0.779695</td>\n",
       "    </tr>\n",
       "    <tr>\n",
       "      <th>SVC-tfidf</th>\n",
       "      <td>0.791939</td>\n",
       "      <td>0.785035</td>\n",
       "      <td>0.774944</td>\n",
       "      <td>0.778891</td>\n",
       "    </tr>\n",
       "    <tr>\n",
       "      <th>zero_shot</th>\n",
       "      <td>0.777233</td>\n",
       "      <td>0.770474</td>\n",
       "      <td>0.780775</td>\n",
       "      <td>0.772420</td>\n",
       "    </tr>\n",
       "    <tr>\n",
       "      <th>SVC-bow</th>\n",
       "      <td>0.786492</td>\n",
       "      <td>0.780201</td>\n",
       "      <td>0.767355</td>\n",
       "      <td>0.772059</td>\n",
       "    </tr>\n",
       "    <tr>\n",
       "      <th>KNN-bert</th>\n",
       "      <td>0.784314</td>\n",
       "      <td>0.780540</td>\n",
       "      <td>0.761288</td>\n",
       "      <td>0.767480</td>\n",
       "    </tr>\n",
       "    <tr>\n",
       "      <th>MLP-fast_text</th>\n",
       "      <td>0.774510</td>\n",
       "      <td>0.764436</td>\n",
       "      <td>0.762885</td>\n",
       "      <td>0.763624</td>\n",
       "    </tr>\n",
       "    <tr>\n",
       "      <th>SVC-fast_text</th>\n",
       "      <td>0.776144</td>\n",
       "      <td>0.769484</td>\n",
       "      <td>0.755473</td>\n",
       "      <td>0.760374</td>\n",
       "    </tr>\n",
       "    <tr>\n",
       "      <th>RF-bow</th>\n",
       "      <td>0.765795</td>\n",
       "      <td>0.765490</td>\n",
       "      <td>0.735535</td>\n",
       "      <td>0.742890</td>\n",
       "    </tr>\n",
       "    <tr>\n",
       "      <th>RF-tfidf</th>\n",
       "      <td>0.755991</td>\n",
       "      <td>0.749530</td>\n",
       "      <td>0.730499</td>\n",
       "      <td>0.736105</td>\n",
       "    </tr>\n",
       "    <tr>\n",
       "      <th>Bertweet-p</th>\n",
       "      <td>0.758715</td>\n",
       "      <td>0.765140</td>\n",
       "      <td>0.721856</td>\n",
       "      <td>0.729757</td>\n",
       "    </tr>\n",
       "    <tr>\n",
       "      <th>Distilbert</th>\n",
       "      <td>0.727124</td>\n",
       "      <td>0.722470</td>\n",
       "      <td>0.731952</td>\n",
       "      <td>0.722500</td>\n",
       "    </tr>\n",
       "    <tr>\n",
       "      <th>RF-fast_text</th>\n",
       "      <td>0.741285</td>\n",
       "      <td>0.731426</td>\n",
       "      <td>0.718089</td>\n",
       "      <td>0.722390</td>\n",
       "    </tr>\n",
       "    <tr>\n",
       "      <th>Bertweet-n</th>\n",
       "      <td>0.698257</td>\n",
       "      <td>0.747292</td>\n",
       "      <td>0.737907</td>\n",
       "      <td>0.697843</td>\n",
       "    </tr>\n",
       "    <tr>\n",
       "      <th>KNN-fast_text</th>\n",
       "      <td>0.714597</td>\n",
       "      <td>0.702776</td>\n",
       "      <td>0.686995</td>\n",
       "      <td>0.691137</td>\n",
       "    </tr>\n",
       "    <tr>\n",
       "      <th>KNN-bow</th>\n",
       "      <td>0.656863</td>\n",
       "      <td>0.664895</td>\n",
       "      <td>0.587797</td>\n",
       "      <td>0.567651</td>\n",
       "    </tr>\n",
       "    <tr>\n",
       "      <th>KNN-tfidf</th>\n",
       "      <td>0.668845</td>\n",
       "      <td>0.745406</td>\n",
       "      <td>0.588476</td>\n",
       "      <td>0.553224</td>\n",
       "    </tr>\n",
       "  </tbody>\n",
       "</table>\n",
       "</div>"
      ],
      "text/plain": [
       "               Acurácia  Precisão  Revocação        F1\n",
       "Modelo                                                \n",
       "Bertimbau      0.872004  0.866622   0.865384  0.865989\n",
       "PTT5           0.863290  0.857054   0.857222  0.857138\n",
       "SVC-bert       0.843137  0.835960   0.836276  0.836117\n",
       "MLP-bert       0.833333  0.828516   0.820106  0.823661\n",
       "MLP-bow        0.803922  0.795488   0.793154  0.794253\n",
       "MLP-tfidf      0.797930  0.790595   0.782983  0.786145\n",
       "RF-bert        0.796296  0.795137   0.772628  0.779695\n",
       "SVC-tfidf      0.791939  0.785035   0.774944  0.778891\n",
       "zero_shot      0.777233  0.770474   0.780775  0.772420\n",
       "SVC-bow        0.786492  0.780201   0.767355  0.772059\n",
       "KNN-bert       0.784314  0.780540   0.761288  0.767480\n",
       "MLP-fast_text  0.774510  0.764436   0.762885  0.763624\n",
       "SVC-fast_text  0.776144  0.769484   0.755473  0.760374\n",
       "RF-bow         0.765795  0.765490   0.735535  0.742890\n",
       "RF-tfidf       0.755991  0.749530   0.730499  0.736105\n",
       "Bertweet-p     0.758715  0.765140   0.721856  0.729757\n",
       "Distilbert     0.727124  0.722470   0.731952  0.722500\n",
       "RF-fast_text   0.741285  0.731426   0.718089  0.722390\n",
       "Bertweet-n     0.698257  0.747292   0.737907  0.697843\n",
       "KNN-fast_text  0.714597  0.702776   0.686995  0.691137\n",
       "KNN-bow        0.656863  0.664895   0.587797  0.567651\n",
       "KNN-tfidf      0.668845  0.745406   0.588476  0.553224"
      ]
     },
     "execution_count": 6,
     "metadata": {},
     "output_type": "execute_result"
    }
   ],
   "source": [
    "binary_df.sort_values(by=\"F1\", ascending=False)"
   ]
  },
  {
   "cell_type": "code",
   "execution_count": 7,
   "metadata": {},
   "outputs": [
    {
     "data": {
      "text/html": [
       "<div>\n",
       "<style scoped>\n",
       "    .dataframe tbody tr th:only-of-type {\n",
       "        vertical-align: middle;\n",
       "    }\n",
       "\n",
       "    .dataframe tbody tr th {\n",
       "        vertical-align: top;\n",
       "    }\n",
       "\n",
       "    .dataframe thead th {\n",
       "        text-align: right;\n",
       "    }\n",
       "</style>\n",
       "<table border=\"1\" class=\"dataframe\">\n",
       "  <thead>\n",
       "    <tr style=\"text-align: right;\">\n",
       "      <th></th>\n",
       "      <th>Acurácia</th>\n",
       "      <th>Precisão</th>\n",
       "      <th>Revocação</th>\n",
       "      <th>F1</th>\n",
       "    </tr>\n",
       "    <tr>\n",
       "      <th>Modelo</th>\n",
       "      <th></th>\n",
       "      <th></th>\n",
       "      <th></th>\n",
       "      <th></th>\n",
       "    </tr>\n",
       "  </thead>\n",
       "  <tbody>\n",
       "    <tr>\n",
       "      <th>zero_shot</th>\n",
       "      <td>0.590337</td>\n",
       "      <td>0.559107</td>\n",
       "      <td>0.538542</td>\n",
       "      <td>0.509301</td>\n",
       "    </tr>\n",
       "    <tr>\n",
       "      <th>ptt5</th>\n",
       "      <td>0.719854</td>\n",
       "      <td>0.699780</td>\n",
       "      <td>0.690627</td>\n",
       "      <td>0.691299</td>\n",
       "    </tr>\n",
       "    <tr>\n",
       "      <th>bertimbau</th>\n",
       "      <td>0.721478</td>\n",
       "      <td>0.698060</td>\n",
       "      <td>0.695480</td>\n",
       "      <td>0.696104</td>\n",
       "    </tr>\n",
       "  </tbody>\n",
       "</table>\n",
       "</div>"
      ],
      "text/plain": [
       "           Acurácia  Precisão  Revocação        F1\n",
       "Modelo                                            \n",
       "zero_shot  0.590337  0.559107   0.538542  0.509301\n",
       "ptt5       0.719854  0.699780   0.690627  0.691299\n",
       "bertimbau  0.721478  0.698060   0.695480  0.696104"
      ]
     },
     "execution_count": 7,
     "metadata": {},
     "output_type": "execute_result"
    }
   ],
   "source": [
    "all_classes_df"
   ]
  },
  {
   "cell_type": "code",
   "execution_count": 8,
   "metadata": {},
   "outputs": [
    {
     "data": {
      "image/png": "[encoded data removed]",
      "text/plain": [
       "<Figure size 936x648 with 1 Axes>"
      ]
     },
     "metadata": {},
     "output_type": "display_data"
    }
   ],
   "source": [
    "binary_df.plot.barh(rot=0)\n",
    "plt.savefig(\"data/metricas.pdf\", bbox_inches=\"tight\")"
   ]
  },
  {
   "cell_type": "code",
   "execution_count": 9,
   "metadata": {},
   "outputs": [],
   "source": [
    "binary_df.sort_values(by=\"F1\", ascending=False).to_csv(\"data/metricas_compiladas.csv\", decimal=\",\", float_format='%.3f')"
   ]
  },
  {
   "cell_type": "code",
   "execution_count": 10,
   "metadata": {},
   "outputs": [
    {
     "data": {
      "text/plain": [
       "<matplotlib.axes._subplots.AxesSubplot at 0x7efcf0520bd0>"
      ]
     },
     "execution_count": 10,
     "metadata": {},
     "output_type": "execute_result"
    },
    {
     "data": {
      "image/png": "[encoded data removed]",
      "text/plain": [
       "<Figure size 936x648 with 1 Axes>"
      ]
     },
     "metadata": {},
     "output_type": "display_data"
    }
   ],
   "source": [
    "all_classes_df.plot.bar(rot=0, xlabel=\"All classes\")"
   ]
  },
  {
   "cell_type": "code",
   "execution_count": 11,
   "metadata": {},
   "outputs": [],
   "source": [
    "# fig, axes = plt.subplots(1,2)\n",
    "\n",
    "# binary_df.plot.bar(rot=0, ax=axes[0], xlabel=\"Binary\")\n",
    "# axes[0].legend().set_visible(False)\n",
    "# all_classes_df.plot.bar(rot=0, ax=axes[1], xlabel=\"All classes\")\n",
    "# # axes[1].get_yaxis().set_visible(False)"
   ]
  }
 ],
 "metadata": {
  "interpreter": {
   "hash": "9ca19dfd6cc13d85ee91f977d98c89f84c94e40f212bf7823f7bb954e842355f"
  },
  "kernelspec": {
   "display_name": "Python 3.7.11 64-bit ('transformers': conda)",
   "name": "python3"
  },
  "language_info": {
   "codemirror_mode": {
    "name": "ipython",
    "version": 3
   },
   "file_extension": ".py",
   "mimetype": "text/x-python",
   "name": "python",
   "nbconvert_exporter": "python",
   "pygments_lexer": "ipython3",
   "version": "3.7.11"
  },
  "orig_nbformat": 4
 },
 "nbformat": 4,
 "nbformat_minor": 2
}
