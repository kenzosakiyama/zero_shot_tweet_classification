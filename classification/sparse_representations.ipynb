{
 "cells": [
  {
   "cell_type": "code",
   "execution_count": 1,
   "source": [
    "import pandas as pd\n",
    "import seaborn as sns\n",
    "import numpy as np\n",
    "\n",
    "%matplotlib inline"
   ],
   "outputs": [],
   "metadata": {}
  },
  {
   "cell_type": "code",
   "execution_count": 2,
   "source": [
    "config = {\n",
    "    \"binary\": True,\n",
    "    \"representations\": \"bow\",\n",
    "    \"rep_params\": {\n",
    "        \"max_features\": 10000,                      # tamanho máximo de vocabulário\n",
    "        \"ngram_range\": (1, 3),                      # ngrams \n",
    "        \"binary\": True\n",
    "    },\n",
    "    \"seed\": 1234\n",
    "}"
   ],
   "outputs": [],
   "metadata": {}
  },
  {
   "cell_type": "code",
   "execution_count": 3,
   "source": [
    "# Configurando seed\n",
    "np.random.seed(config[\"seed\"])"
   ],
   "outputs": [],
   "metadata": {}
  },
  {
   "cell_type": "markdown",
   "source": [
    "# Carregando dados de análise"
   ],
   "metadata": {}
  },
  {
   "cell_type": "code",
   "execution_count": 4,
   "source": [
    "train_df = pd.read_csv(\"/home/kenzosaki/mestrado/data/tweetsentbr/tweetsentbr_train.csv\", index_col=0)\n",
    "test_df = pd.read_csv(\"/home/kenzosaki/mestrado/data/tweetsentbr/tweetsentbr_test.csv\", index_col=0)"
   ],
   "outputs": [],
   "metadata": {}
  },
  {
   "cell_type": "code",
   "execution_count": 5,
   "source": [
    "# Para focar a análise em apenas duas classes: positivo e negativo\n",
    "if config[\"binary\"]:\n",
    "    train_df = train_df[train_df[\"label\"] != 0]\n",
    "    train_df[\"label\"] -= 1\n",
    "\n",
    "    test_df = test_df[test_df[\"label\"] != 0]\n",
    "    test_df[\"label\"] -= 1"
   ],
   "outputs": [],
   "metadata": {}
  },
  {
   "cell_type": "code",
   "execution_count": 6,
   "source": [
    "train_df.head()"
   ],
   "outputs": [
    {
     "output_type": "execute_result",
     "data": {
      "text/html": [
       "<div>\n",
       "<style scoped>\n",
       "    .dataframe tbody tr th:only-of-type {\n",
       "        vertical-align: middle;\n",
       "    }\n",
       "\n",
       "    .dataframe tbody tr th {\n",
       "        vertical-align: top;\n",
       "    }\n",
       "\n",
       "    .dataframe thead th {\n",
       "        text-align: right;\n",
       "    }\n",
       "</style>\n",
       "<table border=\"1\" class=\"dataframe\">\n",
       "  <thead>\n",
       "    <tr style=\"text-align: right;\">\n",
       "      <th></th>\n",
       "      <th>label</th>\n",
       "      <th>text</th>\n",
       "    </tr>\n",
       "  </thead>\n",
       "  <tbody>\n",
       "    <tr>\n",
       "      <th>5689</th>\n",
       "      <td>0</td>\n",
       "      <td>Simplesmente magnífica @fbbreal no Video Show ...</td>\n",
       "    </tr>\n",
       "    <tr>\n",
       "      <th>5386</th>\n",
       "      <td>0</td>\n",
       "      <td>Saiu, mas saiu ahazando. Master Chef BR</td>\n",
       "    </tr>\n",
       "    <tr>\n",
       "      <th>869</th>\n",
       "      <td>0</td>\n",
       "      <td>Já tô pronta pro Master Chef BR</td>\n",
       "    </tr>\n",
       "    <tr>\n",
       "      <th>5432</th>\n",
       "      <td>0</td>\n",
       "      <td>Muito amor por é o tchan Altas Horas</td>\n",
       "    </tr>\n",
       "    <tr>\n",
       "      <th>24</th>\n",
       "      <td>0</td>\n",
       "      <td>QUE PROGRAMA INCRÍVEL O @SBTTheNoite FEZ HOJE!...</td>\n",
       "    </tr>\n",
       "  </tbody>\n",
       "</table>\n",
       "</div>"
      ],
      "text/plain": [
       "      label                                               text\n",
       "5689      0  Simplesmente magnífica @fbbreal no Video Show ...\n",
       "5386      0            Saiu, mas saiu ahazando. Master Chef BR\n",
       "869       0                    Já tô pronta pro Master Chef BR\n",
       "5432      0               Muito amor por é o tchan Altas Horas\n",
       "24        0  QUE PROGRAMA INCRÍVEL O @SBTTheNoite FEZ HOJE!..."
      ]
     },
     "metadata": {},
     "execution_count": 6
    }
   ],
   "metadata": {}
  },
  {
   "cell_type": "markdown",
   "source": [
    "# Definindo procedimento de pre-processamento de texto\n",
    "\n",
    "Pipeline simples de pre-processamento de texto, incluindo: conversão para lower-case, remoção de stop-words, remoção de hashtags e lemmatização."
   ],
   "metadata": {}
  },
  {
   "cell_type": "code",
   "execution_count": 7,
   "source": [
    "import spacy\n",
    "nlp = spacy.load(\"pt_core_news_md\")"
   ],
   "outputs": [],
   "metadata": {}
  },
  {
   "cell_type": "code",
   "execution_count": 8,
   "source": [
    "from typing import Iterable\n",
    "\n",
    "def apply_preprocessing_pipeline(text: str) -> Iterable[str]:\n",
    "\n",
    "    tokens = nlp(text)\n",
    "    final_tokens = []\n",
    "\n",
    "    for token in tokens:\n",
    "\n",
    "        lemma = token.lemma_\n",
    "\n",
    "        if token.is_stop: continue              # remoção de stop-words\n",
    "        if token.is_punct: continue             # remoção de pontuação\n",
    "        if len(lemma.strip()) == 0: continue    # ignorar tokens \"vazios\"\n",
    "        if \"@\" in lemma: continue               # remoção simples de hashtags\n",
    "\n",
    "        final_tokens.append(lemma.lower())\n",
    "    \n",
    "    return final_tokens"
   ],
   "outputs": [],
   "metadata": {}
  },
  {
   "cell_type": "markdown",
   "source": [
    "# Conversão dos textos para representações esparsas"
   ],
   "metadata": {}
  },
  {
   "cell_type": "code",
   "execution_count": 9,
   "source": [
    "from sklearn.feature_extraction.text import CountVectorizer\n",
    "from sklearn.feature_extraction.text import TfidfVectorizer"
   ],
   "outputs": [],
   "metadata": {}
  },
  {
   "cell_type": "code",
   "execution_count": 10,
   "source": [
    "rep = config[\"representations\"]\n",
    "params = config[\"rep_params\"]\n",
    "vectorizer = CountVectorizer(**params, tokenizer=apply_preprocessing_pipeline) if rep == \"bow\" else TfidfVectorizer(**params, tokenizer=apply_preprocessing_pipeline)\n",
    "vectorizer"
   ],
   "outputs": [
    {
     "output_type": "execute_result",
     "data": {
      "text/plain": [
       "CountVectorizer(binary=True, max_features=10000, ngram_range=(1, 3),\n",
       "                tokenizer=<function apply_preprocessing_pipeline at 0x7f38177fd680>)"
      ]
     },
     "metadata": {},
     "execution_count": 10
    }
   ],
   "metadata": {}
  },
  {
   "cell_type": "code",
   "execution_count": 11,
   "source": [
    "X_train = vectorizer.fit_transform(train_df[\"text\"].values)\n",
    "X_test = vectorizer.transform(test_df[\"text\"].values)\n",
    "\n",
    "y_train = train_df[\"label\"].values\n",
    "y_test = test_df[\"label\"].values"
   ],
   "outputs": [],
   "metadata": {}
  },
  {
   "cell_type": "code",
   "execution_count": 12,
   "source": [
    "X_train.shape"
   ],
   "outputs": [
    {
     "output_type": "execute_result",
     "data": {
      "text/plain": [
       "(7340, 10000)"
      ]
     },
     "metadata": {},
     "execution_count": 12
    }
   ],
   "metadata": {}
  },
  {
   "cell_type": "code",
   "execution_count": 13,
   "source": [
    "vectorizer.get_feature_names()[:10]"
   ],
   "outputs": [
    {
     "output_type": "execute_result",
     "data": {
      "text/plain": [
       "['$', '$ $', \"'s\", '+', '+ lindo', '1', '17', '1h', '2ª', '30']"
      ]
     },
     "metadata": {},
     "execution_count": 13
    }
   ],
   "metadata": {}
  },
  {
   "cell_type": "markdown",
   "source": [
    "# Preparando classificadores"
   ],
   "metadata": {}
  },
  {
   "cell_type": "code",
   "execution_count": 14,
   "source": [
    "from sklearn.neural_network import MLPClassifier\n",
    "from sklearn.neighbors import KNeighborsClassifier\n",
    "from sklearn.svm import SVC\n",
    "from sklearn.tree import DecisionTreeClassifier\n",
    "from sklearn.ensemble import RandomForestClassifier"
   ],
   "outputs": [],
   "metadata": {}
  },
  {
   "cell_type": "code",
   "execution_count": 15,
   "source": [
    "models = {\n",
    "    \"MLP\": MLPClassifier(max_iter=500, early_stopping=True),\n",
    "    \"KNN\": KNeighborsClassifier(n_neighbors=7),\n",
    "    \"SVC\": SVC(),\n",
    "    # \"DT\": DecisionTreeClassifier(),\n",
    "    \"RF\": RandomForestClassifier(n_estimators=100)\n",
    "}"
   ],
   "outputs": [],
   "metadata": {}
  },
  {
   "cell_type": "markdown",
   "source": [
    "# Avaliando classificadores"
   ],
   "metadata": {}
  },
  {
   "cell_type": "code",
   "execution_count": 16,
   "source": [
    "from sklearn.metrics import classification_report\n",
    "from sklearn.preprocessing import StandardScaler\n",
    "from tqdm import tqdm"
   ],
   "outputs": [],
   "metadata": {}
  },
  {
   "cell_type": "code",
   "execution_count": 17,
   "source": [
    "def get_metrics(y_real, y_pred):\n",
    "\n",
    "    metrics_dict = classification_report(y_real, y_pred, output_dict=True)\n",
    "\n",
    "    return {\n",
    "        \"accuracy\": metrics_dict[\"accuracy\"],\n",
    "        \"precision\": metrics_dict[\"macro avg\"][\"precision\"],\n",
    "        \"recall\": metrics_dict[\"macro avg\"][\"recall\"],\n",
    "        \"f1\": metrics_dict[\"macro avg\"][\"f1-score\"]\n",
    "    }\n"
   ],
   "outputs": [],
   "metadata": {}
  },
  {
   "cell_type": "code",
   "execution_count": 18,
   "source": [
    "results_df = pd.DataFrame()"
   ],
   "outputs": [],
   "metadata": {}
  },
  {
   "cell_type": "code",
   "execution_count": 19,
   "source": [
    "classes = \"binary\" if config[\"binary\"] else \"all_classes\"\n",
    "\n",
    "for model_name, model in tqdm(models.items(), desc=\"- Evaluating\"):\n",
    "\n",
    "    model.fit(X_train, y_train)\n",
    "    y_pred = model.predict(X_test)\n",
    "\n",
    "    results_dict = get_metrics(y_test, y_pred)\n",
    "    results_dict[\"model\"] = model_name\n",
    "    results_df = results_df.append(results_dict, ignore_index=True)\n",
    "\n",
    "    preds_df = test_df.copy()\n",
    "    preds_df[\"prediction\"] = y_pred\n",
    "    preds_df.to_csv(f\"../data/predictions/{model_name}-{rep}_{classes}_preds.csv\")"
   ],
   "outputs": [
    {
     "output_type": "stream",
     "name": "stderr",
     "text": [
      "- Evaluating: 100%|██████████| 5/5 [00:18<00:00,  3.67s/it]\n"
     ]
    }
   ],
   "metadata": {}
  },
  {
   "cell_type": "code",
   "execution_count": 20,
   "source": [
    "results_df"
   ],
   "outputs": [
    {
     "output_type": "execute_result",
     "data": {
      "text/html": [
       "<div>\n",
       "<style scoped>\n",
       "    .dataframe tbody tr th:only-of-type {\n",
       "        vertical-align: middle;\n",
       "    }\n",
       "\n",
       "    .dataframe tbody tr th {\n",
       "        vertical-align: top;\n",
       "    }\n",
       "\n",
       "    .dataframe thead th {\n",
       "        text-align: right;\n",
       "    }\n",
       "</style>\n",
       "<table border=\"1\" class=\"dataframe\">\n",
       "  <thead>\n",
       "    <tr style=\"text-align: right;\">\n",
       "      <th></th>\n",
       "      <th>accuracy</th>\n",
       "      <th>precision</th>\n",
       "      <th>recall</th>\n",
       "      <th>f1</th>\n",
       "      <th>model</th>\n",
       "    </tr>\n",
       "  </thead>\n",
       "  <tbody>\n",
       "    <tr>\n",
       "      <th>0</th>\n",
       "      <td>0.803922</td>\n",
       "      <td>0.795488</td>\n",
       "      <td>0.793154</td>\n",
       "      <td>0.794253</td>\n",
       "      <td>MLP</td>\n",
       "    </tr>\n",
       "    <tr>\n",
       "      <th>1</th>\n",
       "      <td>0.656863</td>\n",
       "      <td>0.664895</td>\n",
       "      <td>0.587797</td>\n",
       "      <td>0.567651</td>\n",
       "      <td>KNN</td>\n",
       "    </tr>\n",
       "    <tr>\n",
       "      <th>2</th>\n",
       "      <td>0.786492</td>\n",
       "      <td>0.780201</td>\n",
       "      <td>0.767355</td>\n",
       "      <td>0.772059</td>\n",
       "      <td>SVC</td>\n",
       "    </tr>\n",
       "    <tr>\n",
       "      <th>3</th>\n",
       "      <td>0.746732</td>\n",
       "      <td>0.735316</td>\n",
       "      <td>0.731837</td>\n",
       "      <td>0.733371</td>\n",
       "      <td>DT</td>\n",
       "    </tr>\n",
       "    <tr>\n",
       "      <th>4</th>\n",
       "      <td>0.765795</td>\n",
       "      <td>0.765490</td>\n",
       "      <td>0.735535</td>\n",
       "      <td>0.742890</td>\n",
       "      <td>RF</td>\n",
       "    </tr>\n",
       "  </tbody>\n",
       "</table>\n",
       "</div>"
      ],
      "text/plain": [
       "   accuracy  precision    recall        f1 model\n",
       "0  0.803922   0.795488  0.793154  0.794253   MLP\n",
       "1  0.656863   0.664895  0.587797  0.567651   KNN\n",
       "2  0.786492   0.780201  0.767355  0.772059   SVC\n",
       "3  0.746732   0.735316  0.731837  0.733371    DT\n",
       "4  0.765795   0.765490  0.735535  0.742890    RF"
      ]
     },
     "metadata": {},
     "execution_count": 20
    }
   ],
   "metadata": {}
  },
  {
   "cell_type": "code",
   "execution_count": 21,
   "source": [
    "results_df.set_index(\"model\").plot.bar(rot=0)"
   ],
   "outputs": [
    {
     "output_type": "execute_result",
     "data": {
      "text/plain": [
       "<matplotlib.axes._subplots.AxesSubplot at 0x7f3808cde410>"
      ]
     },
     "metadata": {},
     "execution_count": 21
    },
    {
     "output_type": "display_data",
     "data": {
      "image/png": "[encoded data removed]",
      "text/plain": [
       "<Figure size 432x288 with 1 Axes>"
      ]
     },
     "metadata": {
      "needs_background": "light"
     }
    }
   ],
   "metadata": {}
  },
  {
   "cell_type": "code",
   "execution_count": null,
   "source": [],
   "outputs": [],
   "metadata": {}
  }
 ],
 "metadata": {
  "orig_nbformat": 4,
  "language_info": {
   "name": "python",
   "version": "3.7.11",
   "mimetype": "text/x-python",
   "codemirror_mode": {
    "name": "ipython",
    "version": 3
   },
   "pygments_lexer": "ipython3",
   "nbconvert_exporter": "python",
   "file_extension": ".py"
  },
  "kernelspec": {
   "name": "python3",
   "display_name": "Python 3.7.11 64-bit ('transformers': conda)"
  },
  "interpreter": {
   "hash": "c7d87c45efe9b51e1565fe98e10669b070dcdad2a728fa9151544667aca4bb7a"
  }
 },
 "nbformat": 4,
 "nbformat_minor": 2
}