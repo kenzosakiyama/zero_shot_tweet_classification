{
 "cells": [
  {
   "cell_type": "code",
   "execution_count": 1,
   "metadata": {},
   "outputs": [],
   "source": [
    "import pandas as pd\n",
    "import seaborn as sns\n",
    "import numpy as np\n",
    "\n",
    "%matplotlib inline"
   ]
  },
  {
   "cell_type": "code",
   "execution_count": 2,
   "metadata": {},
   "outputs": [],
   "source": [
    "config = {\n",
    "    \"binary\": True,\n",
    "    \"representations\": \"minilm\",\n",
    "    \"load_precomputed\": True, # lembrar de gerar usando 3 classes!\n",
    "    \"normalize\": True,\n",
    "    \"seed\": 1234\n",
    "}"
   ]
  },
  {
   "cell_type": "code",
   "execution_count": 3,
   "metadata": {},
   "outputs": [],
   "source": [
    "# Configurando seed\n",
    "np.random.seed(config[\"seed\"])"
   ]
  },
  {
   "cell_type": "markdown",
   "metadata": {},
   "source": [
    "# Carregando dados de análise"
   ]
  },
  {
   "cell_type": "code",
   "execution_count": 4,
   "metadata": {},
   "outputs": [],
   "source": [
    "train_df = pd.read_csv(\"/home/kenzosaki/mestrado/data/tweetsentbr/tweetsentbr_train.csv\", index_col=0)\n",
    "test_df = pd.read_csv(\"/home/kenzosaki/mestrado/data/tweetsentbr/tweetsentbr_test.csv\", index_col=0)"
   ]
  },
  {
   "cell_type": "code",
   "execution_count": 5,
   "metadata": {},
   "outputs": [
    {
     "data": {
      "text/html": [
       "<div>\n",
       "<style scoped>\n",
       "    .dataframe tbody tr th:only-of-type {\n",
       "        vertical-align: middle;\n",
       "    }\n",
       "\n",
       "    .dataframe tbody tr th {\n",
       "        vertical-align: top;\n",
       "    }\n",
       "\n",
       "    .dataframe thead th {\n",
       "        text-align: right;\n",
       "    }\n",
       "</style>\n",
       "<table border=\"1\" class=\"dataframe\">\n",
       "  <thead>\n",
       "    <tr style=\"text-align: right;\">\n",
       "      <th></th>\n",
       "      <th>label</th>\n",
       "      <th>text</th>\n",
       "    </tr>\n",
       "  </thead>\n",
       "  <tbody>\n",
       "    <tr>\n",
       "      <th>5689</th>\n",
       "      <td>1</td>\n",
       "      <td>Simplesmente magnífica @fbbreal no Video Show ...</td>\n",
       "    </tr>\n",
       "    <tr>\n",
       "      <th>5386</th>\n",
       "      <td>1</td>\n",
       "      <td>Saiu, mas saiu ahazando. Master Chef BR</td>\n",
       "    </tr>\n",
       "    <tr>\n",
       "      <th>869</th>\n",
       "      <td>1</td>\n",
       "      <td>Já tô pronta pro Master Chef BR</td>\n",
       "    </tr>\n",
       "    <tr>\n",
       "      <th>5432</th>\n",
       "      <td>1</td>\n",
       "      <td>Muito amor por é o tchan Altas Horas</td>\n",
       "    </tr>\n",
       "    <tr>\n",
       "      <th>24</th>\n",
       "      <td>1</td>\n",
       "      <td>QUE PROGRAMA INCRÍVEL O @SBTTheNoite FEZ HOJE!...</td>\n",
       "    </tr>\n",
       "  </tbody>\n",
       "</table>\n",
       "</div>"
      ],
      "text/plain": [
       "      label                                               text\n",
       "5689      1  Simplesmente magnífica @fbbreal no Video Show ...\n",
       "5386      1            Saiu, mas saiu ahazando. Master Chef BR\n",
       "869       1                    Já tô pronta pro Master Chef BR\n",
       "5432      1               Muito amor por é o tchan Altas Horas\n",
       "24        1  QUE PROGRAMA INCRÍVEL O @SBTTheNoite FEZ HOJE!..."
      ]
     },
     "execution_count": 5,
     "metadata": {},
     "output_type": "execute_result"
    }
   ],
   "source": [
    "train_df.head()"
   ]
  },
  {
   "cell_type": "markdown",
   "metadata": {},
   "source": [
    "# Conversão dos textos para representações densas"
   ]
  },
  {
   "cell_type": "code",
   "execution_count": 6,
   "metadata": {},
   "outputs": [],
   "source": [
    "import spacy\n",
    "from sentence_transformers import SentenceTransformer\n",
    "import numpy as np\n",
    "from sklearn.preprocessing import StandardScaler, normalize\n",
    "nlp = spacy.load(\"pt_core_news_md\")"
   ]
  },
  {
   "cell_type": "code",
   "execution_count": 7,
   "metadata": {},
   "outputs": [],
   "source": [
    "from typing import Iterable\n",
    "\n",
    "def convert_text_to_vector(text: str) -> Iterable[str]:\n",
    "\n",
    "    tokens = nlp(text)\n",
    "\n",
    "    text_vector = np.zeros(300)\n",
    "    used_tokens = 0\n",
    "\n",
    "    for token in tokens:\n",
    "\n",
    "        lemma = token.lemma_\n",
    "\n",
    "        if token.is_stop: continue              # remoção de stop-words\n",
    "        if token.is_punct: continue             # remoção de pontuação\n",
    "        if len(lemma.strip()) == 0: continue    # ignorar tokens \"vazios\"\n",
    "        if \"@\" in lemma: continue               # remoção simples de hashtags\n",
    "\n",
    "        text_vector += token.vector\n",
    "        used_tokens += 1\n",
    "    \n",
    "    return text_vector / used_tokens"
   ]
  },
  {
   "cell_type": "code",
   "execution_count": 8,
   "metadata": {},
   "outputs": [
    {
     "name": "stdout",
     "output_type": "stream",
     "text": [
      "- Loading precomputed representations from /home/kenzosaki/mestrado/data/tweetsentbr/fast_text_representations/.\n"
     ]
    }
   ],
   "source": [
    "# Gerando a representação densa desejada\n",
    "if config[\"load_precomputed\"]:\n",
    "    load_path = \"/home/kenzosaki/mestrado/data/tweetsentbr/sentence_bert_representations/\" if config[\"representations\"] == \"bert\" else \\\n",
    "                \"/home/kenzosaki/mestrado/data/tweetsentbr/fast_text_representations/\"\n",
    "    print(f\"- Loading precomputed representations from {load_path}.\")\n",
    "    X_train_raw = np.load(load_path + \"train.npy\")\n",
    "    X_test_raw = np.load(load_path + \"test.npy\")\n",
    "    \n",
    "else:\n",
    "\n",
    "    if config[\"representations\"] == \"bert\":\n",
    "        print(\"- Usando Sentence-Bert PT para representar os tweets\")\n",
    "        model = SentenceTransformer(\"/home/kenzosaki/mestrado/data/models/similarity_bertimbau\", device=\"cuda\")\n",
    "        X_train_raw = model.encode(train_df[\"text\"].values, show_progress_bar=True)\n",
    "        X_test_raw = model.encode(test_df[\"text\"].values, show_progress_bar=True)\n",
    "        save_path = \"/home/kenzosaki/mestrado/data/tweetsentbr/sentence_bert_representations/\"\n",
    "\n",
    "    elif config[\"representations\"] == \"minilm\":\n",
    "        print(\"- Usando mMiniLM para representar os tweets\")\n",
    "        model = SentenceTransformer(\"sentence-transformers/paraphrase-multilingual-MiniLM-L12-v2\", device=\"cuda\")\n",
    "        X_train_raw = model.encode(train_df[\"text\"].values, show_progress_bar=True)\n",
    "        X_test_raw = model.encode(test_df[\"text\"].values, show_progress_bar=True)\n",
    "        save_path = \"/home/kenzosaki/mestrado/data/tweetsentbr/sentence_bert_representations/\"    \n",
    "    \n",
    "    elif config[\"representations\"] == \"bert-multi\":\n",
    "        print(\"- Usando Sentence-Bert multilingual para representar os tweets\")\n",
    "        model = SentenceTransformer(\"sentence-transformers/distiluse-base-multilingual-cased\", device=\"cuda\")\n",
    "        X_train_raw = model.encode(train_df[\"text\"].values, show_progress_bar=True)\n",
    "        X_test_raw = model.encode(test_df[\"text\"].values, show_progress_bar=True)\n",
    "        save_path = \"/home/kenzosaki/mestrado/data/tweetsentbr/sentence_bert-multi_representations/\"\n",
    "\n",
    "    else:\n",
    "        print(\"- Usando FastText Word Embeddings para representar os tweets\")\n",
    "        X_train_raw = [convert_text_to_vector(text) for text in train_df[\"text\"]]\n",
    "        X_test_raw = [convert_text_to_vector(text) for text in test_df[\"text\"]]\n",
    "        save_path = \"/home/kenzosaki/mestrado/data/tweetsentbr/fast_text_representations/\"\n",
    "\n",
    "    # Serializando para evitar computar novamente\n",
    "    np.save(save_path + \"train\", X_train_raw)\n",
    "    np.save(save_path + \"test\", X_test_raw)\n"
   ]
  },
  {
   "cell_type": "markdown",
   "metadata": {},
   "source": [
    "# Pre-processamento"
   ]
  },
  {
   "cell_type": "code",
   "execution_count": 9,
   "metadata": {},
   "outputs": [],
   "source": [
    "# Para focar a análise em apenas duas classes: positivo e negativo\n",
    "# Ajusta-se também os identificadores das classes para 0 -> positivo, 1 -> neutro\n",
    "# Também é necessário filtrar representações a utilizar\n",
    "if config[\"binary\"]:\n",
    "    keep_in_train = train_df[\"label\"] != 0\n",
    "    train_df = train_df[keep_in_train]\n",
    "    train_df[\"label\"] -= 1\n",
    "    X_train_raw = X_train_raw[keep_in_train]\n",
    "\n",
    "    keep_in_test = test_df[\"label\"] != 0\n",
    "    test_df = test_df[test_df[\"label\"] != 0]\n",
    "    test_df[\"label\"] -= 1\n",
    "    X_test_raw = X_test_raw[keep_in_test]"
   ]
  },
  {
   "cell_type": "code",
   "execution_count": 10,
   "metadata": {},
   "outputs": [],
   "source": [
    "# Substituindo por zero exemplos inválidos (valores muito pequenos ou muito grandes)\n",
    "X_train_raw = pd.DataFrame(X_train_raw).fillna(0).values\n",
    "X_test_raw = pd.DataFrame(X_test_raw).fillna(0).values"
   ]
  },
  {
   "cell_type": "code",
   "execution_count": 11,
   "metadata": {},
   "outputs": [],
   "source": [
    "# Preparando pares X, y\n",
    "y_train = train_df[\"label\"].values\n",
    "y_test = test_df[\"label\"].values"
   ]
  },
  {
   "cell_type": "code",
   "execution_count": 12,
   "metadata": {},
   "outputs": [
    {
     "name": "stdout",
     "output_type": "stream",
     "text": [
      "- Aplicando normalização L2\n"
     ]
    }
   ],
   "source": [
    "# Normalizando vetores\n",
    "if config[\"normalize\"]:\n",
    "    print(\"- Aplicando normalização L2\")\n",
    "    X_train = normalize(X_train_raw)\n",
    "    X_test = normalize(X_test_raw)\n",
    "else:\n",
    "    print(\"- Preservando valores originais\")"
   ]
  },
  {
   "cell_type": "markdown",
   "metadata": {},
   "source": [
    "# Preparando classificadores"
   ]
  },
  {
   "cell_type": "code",
   "execution_count": 13,
   "metadata": {},
   "outputs": [],
   "source": [
    "from sklearn.neural_network import MLPClassifier\n",
    "from sklearn.neighbors import KNeighborsClassifier\n",
    "from sklearn.svm import SVC\n",
    "from sklearn.tree import DecisionTreeClassifier\n",
    "from sklearn.ensemble import RandomForestClassifier"
   ]
  },
  {
   "cell_type": "code",
   "execution_count": 14,
   "metadata": {},
   "outputs": [],
   "source": [
    "models = {\n",
    "    \"MLP\": MLPClassifier(max_iter=500, early_stopping=True),\n",
    "    \"KNN\": KNeighborsClassifier(n_neighbors=7),\n",
    "    \"SVC\": SVC(),\n",
    "    # \"DT\": DecisionTreeClassifier(),\n",
    "    \"RF\": RandomForestClassifier(n_estimators=100)\n",
    "}"
   ]
  },
  {
   "cell_type": "markdown",
   "metadata": {},
   "source": [
    "# Avaliando classificadores"
   ]
  },
  {
   "cell_type": "code",
   "execution_count": 15,
   "metadata": {},
   "outputs": [],
   "source": [
    "from sklearn.metrics import classification_report\n",
    "from tqdm import tqdm"
   ]
  },
  {
   "cell_type": "code",
   "execution_count": 16,
   "metadata": {},
   "outputs": [],
   "source": [
    "def get_metrics(y_real, y_pred):\n",
    "\n",
    "    metrics_dict = classification_report(y_real, y_pred, output_dict=True)\n",
    "\n",
    "    return {\n",
    "        \"accuracy\": metrics_dict[\"accuracy\"],\n",
    "        \"precision\": metrics_dict[\"macro avg\"][\"precision\"],\n",
    "        \"recall\": metrics_dict[\"macro avg\"][\"recall\"],\n",
    "        \"f1\": metrics_dict[\"macro avg\"][\"f1-score\"]\n",
    "    }\n"
   ]
  },
  {
   "cell_type": "code",
   "execution_count": 17,
   "metadata": {},
   "outputs": [],
   "source": [
    "results_df = pd.DataFrame()"
   ]
  },
  {
   "cell_type": "code",
   "execution_count": 18,
   "metadata": {},
   "outputs": [
    {
     "name": "stderr",
     "output_type": "stream",
     "text": [
      "- Evaluating: 100%|██████████| 4/4 [00:17<00:00,  4.33s/it]\n"
     ]
    }
   ],
   "source": [
    "classes = \"binary\" if config[\"binary\"] else \"all_classes\"\n",
    "rep = config[\"representations\"]\n",
    "\n",
    "for model_name, model in tqdm(models.items(), desc=\"- Evaluating\"):\n",
    "\n",
    "    model.fit(X_train, y_train)\n",
    "    y_pred = model.predict(X_test)\n",
    "\n",
    "    results_dict = get_metrics(y_test, y_pred)\n",
    "    results_dict[\"model\"] = model_name\n",
    "    results_df = results_df.append(results_dict, ignore_index=True)\n",
    "\n",
    "    preds_df = test_df.copy()\n",
    "    preds_df[\"prediction\"] = y_pred\n",
    "    preds_df.to_csv(f\"../data/predictions/{model_name}-{rep}_{classes}_preds.csv\")"
   ]
  },
  {
   "cell_type": "code",
   "execution_count": 19,
   "metadata": {},
   "outputs": [
    {
     "data": {
      "text/html": [
       "<div>\n",
       "<style scoped>\n",
       "    .dataframe tbody tr th:only-of-type {\n",
       "        vertical-align: middle;\n",
       "    }\n",
       "\n",
       "    .dataframe tbody tr th {\n",
       "        vertical-align: top;\n",
       "    }\n",
       "\n",
       "    .dataframe thead th {\n",
       "        text-align: right;\n",
       "    }\n",
       "</style>\n",
       "<table border=\"1\" class=\"dataframe\">\n",
       "  <thead>\n",
       "    <tr style=\"text-align: right;\">\n",
       "      <th></th>\n",
       "      <th>accuracy</th>\n",
       "      <th>precision</th>\n",
       "      <th>recall</th>\n",
       "      <th>f1</th>\n",
       "      <th>model</th>\n",
       "    </tr>\n",
       "  </thead>\n",
       "  <tbody>\n",
       "    <tr>\n",
       "      <th>0</th>\n",
       "      <td>0.774510</td>\n",
       "      <td>0.764436</td>\n",
       "      <td>0.762885</td>\n",
       "      <td>0.763624</td>\n",
       "      <td>MLP</td>\n",
       "    </tr>\n",
       "    <tr>\n",
       "      <th>1</th>\n",
       "      <td>0.714597</td>\n",
       "      <td>0.702776</td>\n",
       "      <td>0.686995</td>\n",
       "      <td>0.691137</td>\n",
       "      <td>KNN</td>\n",
       "    </tr>\n",
       "    <tr>\n",
       "      <th>2</th>\n",
       "      <td>0.776144</td>\n",
       "      <td>0.769484</td>\n",
       "      <td>0.755473</td>\n",
       "      <td>0.760374</td>\n",
       "      <td>SVC</td>\n",
       "    </tr>\n",
       "    <tr>\n",
       "      <th>3</th>\n",
       "      <td>0.741285</td>\n",
       "      <td>0.731426</td>\n",
       "      <td>0.718089</td>\n",
       "      <td>0.722390</td>\n",
       "      <td>RF</td>\n",
       "    </tr>\n",
       "  </tbody>\n",
       "</table>\n",
       "</div>"
      ],
      "text/plain": [
       "   accuracy  precision    recall        f1 model\n",
       "0  0.774510   0.764436  0.762885  0.763624   MLP\n",
       "1  0.714597   0.702776  0.686995  0.691137   KNN\n",
       "2  0.776144   0.769484  0.755473  0.760374   SVC\n",
       "3  0.741285   0.731426  0.718089  0.722390    RF"
      ]
     },
     "execution_count": 19,
     "metadata": {},
     "output_type": "execute_result"
    }
   ],
   "source": [
    "results_df"
   ]
  },
  {
   "cell_type": "code",
   "execution_count": 20,
   "metadata": {},
   "outputs": [
    {
     "data": {
      "text/plain": [
       "<matplotlib.axes._subplots.AxesSubplot at 0x7fe6be9c40d0>"
      ]
     },
     "execution_count": 20,
     "metadata": {},
     "output_type": "execute_result"
    },
    {
     "data": {
      "image/png": "[encoded data removed]",
      "text/plain": [
       "<Figure size 432x288 with 1 Axes>"
      ]
     },
     "metadata": {
      "needs_background": "light"
     },
     "output_type": "display_data"
    }
   ],
   "source": [
    "results_df.set_index(\"model\").plot.bar(rot=0)"
   ]
  },
  {
   "cell_type": "code",
   "execution_count": null,
   "metadata": {},
   "outputs": [],
   "source": []
  }
 ],
 "metadata": {
  "interpreter": {
   "hash": "9ca19dfd6cc13d85ee91f977d98c89f84c94e40f212bf7823f7bb954e842355f"
  },
  "kernelspec": {
   "display_name": "Python 3.7.11 64-bit ('transformers': conda)",
   "name": "python3"
  },
  "language_info": {
   "codemirror_mode": {
    "name": "ipython",
    "version": 3
   },
   "file_extension": ".py",
   "mimetype": "text/x-python",
   "name": "python",
   "nbconvert_exporter": "python",
   "pygments_lexer": "ipython3",
   "version": "3.7.11"
  },
  "orig_nbformat": 4
 },
 "nbformat": 4,
 "nbformat_minor": 2
}
