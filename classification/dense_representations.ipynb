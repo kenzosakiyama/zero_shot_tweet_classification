{
 "cells": [
  {
   "cell_type": "code",
   "execution_count": 1,
   "source": [
    "import pandas as pd\n",
    "import seaborn as sns\n",
    "\n",
    "%matplotlib inline"
   ],
   "outputs": [],
   "metadata": {}
  },
  {
   "cell_type": "code",
   "execution_count": 2,
   "source": [
    "config = {\n",
    "    \"binary\": False,\n",
    "    \"representations\": \"we\",\n",
    "    \"load_precomputed\": True,\n",
    "    \"normalize\": True\n",
    "}"
   ],
   "outputs": [],
   "metadata": {}
  },
  {
   "cell_type": "markdown",
   "source": [
    "# Carregando dados de análise"
   ],
   "metadata": {}
  },
  {
   "cell_type": "code",
   "execution_count": 3,
   "source": [
    "train_df = pd.read_csv(\"/home/kenzosaki/mestrado/data/tweetsentbr/tweetsentbr_train.csv\", index_col=0)\n",
    "test_df = pd.read_csv(\"/home/kenzosaki/mestrado/data/tweetsentbr/tweetsentbr_test.csv\", index_col=0)"
   ],
   "outputs": [],
   "metadata": {}
  },
  {
   "cell_type": "code",
   "execution_count": 4,
   "source": [
    "# Para focar a análise em apenas duas classes: positivo e negativo\n",
    "if config[\"binary\"]:\n",
    "    train_df = train_df[train_df[\"label\"] != 0]\n",
    "    test_df = test_df[test_df[\"label\"] != 0]"
   ],
   "outputs": [],
   "metadata": {}
  },
  {
   "cell_type": "code",
   "execution_count": 5,
   "source": [
    "train_df.head()"
   ],
   "outputs": [
    {
     "output_type": "execute_result",
     "data": {
      "text/html": [
       "<div>\n",
       "<style scoped>\n",
       "    .dataframe tbody tr th:only-of-type {\n",
       "        vertical-align: middle;\n",
       "    }\n",
       "\n",
       "    .dataframe tbody tr th {\n",
       "        vertical-align: top;\n",
       "    }\n",
       "\n",
       "    .dataframe thead th {\n",
       "        text-align: right;\n",
       "    }\n",
       "</style>\n",
       "<table border=\"1\" class=\"dataframe\">\n",
       "  <thead>\n",
       "    <tr style=\"text-align: right;\">\n",
       "      <th></th>\n",
       "      <th>label</th>\n",
       "      <th>text</th>\n",
       "    </tr>\n",
       "  </thead>\n",
       "  <tbody>\n",
       "    <tr>\n",
       "      <th>5689</th>\n",
       "      <td>1</td>\n",
       "      <td>Simplesmente magnífica @fbbreal no Video Show ...</td>\n",
       "    </tr>\n",
       "    <tr>\n",
       "      <th>5386</th>\n",
       "      <td>1</td>\n",
       "      <td>Saiu, mas saiu ahazando. Master Chef BR</td>\n",
       "    </tr>\n",
       "    <tr>\n",
       "      <th>869</th>\n",
       "      <td>1</td>\n",
       "      <td>Já tô pronta pro Master Chef BR</td>\n",
       "    </tr>\n",
       "    <tr>\n",
       "      <th>5432</th>\n",
       "      <td>1</td>\n",
       "      <td>Muito amor por é o tchan Altas Horas</td>\n",
       "    </tr>\n",
       "    <tr>\n",
       "      <th>24</th>\n",
       "      <td>1</td>\n",
       "      <td>QUE PROGRAMA INCRÍVEL O @SBTTheNoite FEZ HOJE!...</td>\n",
       "    </tr>\n",
       "  </tbody>\n",
       "</table>\n",
       "</div>"
      ],
      "text/plain": [
       "      label                                               text\n",
       "5689      1  Simplesmente magnífica @fbbreal no Video Show ...\n",
       "5386      1            Saiu, mas saiu ahazando. Master Chef BR\n",
       "869       1                    Já tô pronta pro Master Chef BR\n",
       "5432      1               Muito amor por é o tchan Altas Horas\n",
       "24        1  QUE PROGRAMA INCRÍVEL O @SBTTheNoite FEZ HOJE!..."
      ]
     },
     "metadata": {},
     "execution_count": 5
    }
   ],
   "metadata": {}
  },
  {
   "cell_type": "markdown",
   "source": [
    "# Conversão dos textos para representações densas"
   ],
   "metadata": {}
  },
  {
   "cell_type": "code",
   "execution_count": 6,
   "source": [
    "import spacy\n",
    "from sentence_transformers import SentenceTransformer\n",
    "import numpy as np\n",
    "from sklearn.preprocessing import StandardScaler, normalize\n",
    "nlp = spacy.load(\"pt_core_news_md\")"
   ],
   "outputs": [],
   "metadata": {}
  },
  {
   "cell_type": "code",
   "execution_count": 7,
   "source": [
    "from typing import Iterable\n",
    "\n",
    "def convert_text_to_vector(text: str) -> Iterable[str]:\n",
    "\n",
    "    tokens = nlp(text)\n",
    "\n",
    "    text_vector = np.zeros(300)\n",
    "    used_tokens = 0\n",
    "\n",
    "    for token in tokens:\n",
    "\n",
    "        lemma = token.lemma_\n",
    "\n",
    "        if token.is_stop: continue              # remoção de stop-words\n",
    "        if token.is_punct: continue             # remoção de pontuação\n",
    "        if len(lemma.strip()) == 0: continue    # ignorar tokens \"vazios\"\n",
    "        if \"@\" in lemma: continue               # remoção simples de hashtags\n",
    "\n",
    "        text_vector += token.vector\n",
    "        used_tokens += 1\n",
    "    \n",
    "    return text_vector / used_tokens"
   ],
   "outputs": [],
   "metadata": {}
  },
  {
   "cell_type": "code",
   "execution_count": 8,
   "source": [
    "# Gerando a representação densa desejada\n",
    "if config[\"load_precomputed\"]:\n",
    "    load_path = \"/home/kenzosaki/mestrado/data/tweetsentbr/sentence_bert_representations/\" if config[\"representations\"] == \"bert\" else \\\n",
    "                \"/home/kenzosaki/mestrado/data/tweetsentbr/fast_text_representations/\"\n",
    "    print(f\"- Loading precomputed representations from {load_path}.\")\n",
    "    X_train_raw = np.load(load_path + \"train.npy\")\n",
    "    X_test_raw = np.load(load_path + \"test.npy\")\n",
    "    \n",
    "else:\n",
    "\n",
    "    if config[\"representations\"] == \"bert\":\n",
    "        print(\"- Usando Sentence-Bert para representar os tweets\")\n",
    "        model = SentenceTransformer(\"/home/kenzosaki/mestrado/data/models/similarity_bertimbau\", device=\"cuda\")\n",
    "        X_train_raw = model.encode(train_df[\"text\"].values, show_progress_bar=True)\n",
    "        X_test_raw = model.encode(test_df[\"text\"].values, show_progress_bar=True)\n",
    "        save_path = \"/home/kenzosaki/mestrado/data/tweetsentbr/sentence_bert_representations/\"\n",
    "\n",
    "    else:\n",
    "        print(\"- Usando FastText Word Embeddings para representar os tweets\")\n",
    "        X_train_raw = [convert_text_to_vector(text) for text in train_df[\"text\"]]\n",
    "        X_test_raw = [convert_text_to_vector(text) for text in test_df[\"text\"]]\n",
    "        save_path = \"/home/kenzosaki/mestrado/data/tweetsentbr/fast_text_representations/\"\n",
    "\n",
    "    # Serializando para evitar computar novamente\n",
    "    np.save(save_path + \"train\", X_train_raw)\n",
    "    np.save(save_path + \"test\", X_test_raw)\n"
   ],
   "outputs": [
    {
     "output_type": "stream",
     "name": "stdout",
     "text": [
      "- Loading precomputed representations from /home/kenzosaki/mestrado/data/tweetsentbr/fast_text_representations/.\n"
     ]
    }
   ],
   "metadata": {}
  },
  {
   "cell_type": "code",
   "execution_count": 9,
   "source": [
    "y_train = train_df[\"label\"].values\n",
    "y_test = test_df[\"label\"].values"
   ],
   "outputs": [],
   "metadata": {}
  },
  {
   "cell_type": "code",
   "execution_count": 10,
   "source": [
    "# Substituindo por zero exemplos inválidos (valores muito pequenos ou muito grandes)\n",
    "X_train_raw = pd.DataFrame(X_train_raw).fillna(0).values\n",
    "X_test_raw = pd.DataFrame(X_test_raw).fillna(0).values"
   ],
   "outputs": [],
   "metadata": {}
  },
  {
   "cell_type": "code",
   "execution_count": 11,
   "source": [
    "# Normalizando vetores\n",
    "if config[\"normalize\"]:\n",
    "    print(\"- Aplicando normalização L2\")\n",
    "    X_train = normalize(X_train_raw)\n",
    "    X_test = normalize(X_test_raw)\n",
    "else:\n",
    "    print(\"- Preservando valores originais\")\n",
    "    X_train = X_train_raw\n",
    "    X_test = X_test_raw"
   ],
   "outputs": [
    {
     "output_type": "stream",
     "name": "stdout",
     "text": [
      "- Aplicando normalização L2\n"
     ]
    }
   ],
   "metadata": {}
  },
  {
   "cell_type": "markdown",
   "source": [
    "# Preparando classificadores"
   ],
   "metadata": {}
  },
  {
   "cell_type": "code",
   "execution_count": 12,
   "source": [
    "from sklearn.neural_network import MLPClassifier\n",
    "from sklearn.neighbors import KNeighborsClassifier\n",
    "from sklearn.svm import SVC\n",
    "from sklearn.tree import DecisionTreeClassifier\n",
    "from sklearn.ensemble import RandomForestClassifier"
   ],
   "outputs": [],
   "metadata": {}
  },
  {
   "cell_type": "code",
   "execution_count": 13,
   "source": [
    "models = {\n",
    "    \"MLP\": MLPClassifier(max_iter=500, early_stopping=True),\n",
    "    \"KNN\": KNeighborsClassifier(n_neighbors=7),\n",
    "    \"SVC\": SVC(),\n",
    "    \"DT\": DecisionTreeClassifier(),\n",
    "    \"RF\": RandomForestClassifier(n_estimators=100)\n",
    "}"
   ],
   "outputs": [],
   "metadata": {}
  },
  {
   "cell_type": "markdown",
   "source": [
    "# Avaliando classificadores"
   ],
   "metadata": {}
  },
  {
   "cell_type": "code",
   "execution_count": 14,
   "source": [
    "from sklearn.metrics import classification_report\n",
    "from tqdm import tqdm"
   ],
   "outputs": [],
   "metadata": {}
  },
  {
   "cell_type": "code",
   "execution_count": 15,
   "source": [
    "def get_metrics(y_real, y_pred):\n",
    "\n",
    "    metrics_dict = classification_report(y_real, y_pred, output_dict=True)\n",
    "\n",
    "    return {\n",
    "        \"accuracy\": metrics_dict[\"accuracy\"],\n",
    "        \"precision\": metrics_dict[\"macro avg\"][\"precision\"],\n",
    "        \"recall\": metrics_dict[\"macro avg\"][\"recall\"],\n",
    "        \"f1\": metrics_dict[\"macro avg\"][\"f1-score\"]\n",
    "    }\n"
   ],
   "outputs": [],
   "metadata": {}
  },
  {
   "cell_type": "code",
   "execution_count": 16,
   "source": [
    "results_df = pd.DataFrame()"
   ],
   "outputs": [],
   "metadata": {}
  },
  {
   "cell_type": "code",
   "execution_count": 17,
   "source": [
    "for model_name, model in tqdm(models.items(), desc=\"- Evaluating\"):\n",
    "\n",
    "    model.fit(X_train, y_train)\n",
    "    y_pred = model.predict(X_test)\n",
    "\n",
    "    results_dict = get_metrics(y_test, y_pred)\n",
    "    results_dict[\"model\"] = model_name\n",
    "    results_df = results_df.append(results_dict, ignore_index=True)"
   ],
   "outputs": [
    {
     "output_type": "stream",
     "name": "stderr",
     "text": [
      "- Evaluating: 100%|██████████| 5/5 [00:37<00:00,  7.46s/it]\n"
     ]
    }
   ],
   "metadata": {}
  },
  {
   "cell_type": "code",
   "execution_count": 18,
   "source": [
    "results_df"
   ],
   "outputs": [
    {
     "output_type": "execute_result",
     "data": {
      "text/html": [
       "<div>\n",
       "<style scoped>\n",
       "    .dataframe tbody tr th:only-of-type {\n",
       "        vertical-align: middle;\n",
       "    }\n",
       "\n",
       "    .dataframe tbody tr th {\n",
       "        vertical-align: top;\n",
       "    }\n",
       "\n",
       "    .dataframe thead th {\n",
       "        text-align: right;\n",
       "    }\n",
       "</style>\n",
       "<table border=\"1\" class=\"dataframe\">\n",
       "  <thead>\n",
       "    <tr style=\"text-align: right;\">\n",
       "      <th></th>\n",
       "      <th>accuracy</th>\n",
       "      <th>precision</th>\n",
       "      <th>recall</th>\n",
       "      <th>f1</th>\n",
       "      <th>model</th>\n",
       "    </tr>\n",
       "  </thead>\n",
       "  <tbody>\n",
       "    <tr>\n",
       "      <th>0</th>\n",
       "      <td>0.610637</td>\n",
       "      <td>0.586815</td>\n",
       "      <td>0.561606</td>\n",
       "      <td>0.563888</td>\n",
       "      <td>MLP</td>\n",
       "    </tr>\n",
       "    <tr>\n",
       "      <th>1</th>\n",
       "      <td>0.546894</td>\n",
       "      <td>0.517343</td>\n",
       "      <td>0.500465</td>\n",
       "      <td>0.501123</td>\n",
       "      <td>KNN</td>\n",
       "    </tr>\n",
       "    <tr>\n",
       "      <th>2</th>\n",
       "      <td>0.617540</td>\n",
       "      <td>0.592400</td>\n",
       "      <td>0.574381</td>\n",
       "      <td>0.574275</td>\n",
       "      <td>SVC</td>\n",
       "    </tr>\n",
       "    <tr>\n",
       "      <th>3</th>\n",
       "      <td>0.474624</td>\n",
       "      <td>0.454638</td>\n",
       "      <td>0.455790</td>\n",
       "      <td>0.454898</td>\n",
       "      <td>DT</td>\n",
       "    </tr>\n",
       "    <tr>\n",
       "      <th>4</th>\n",
       "      <td>0.581811</td>\n",
       "      <td>0.574782</td>\n",
       "      <td>0.529195</td>\n",
       "      <td>0.523131</td>\n",
       "      <td>RF</td>\n",
       "    </tr>\n",
       "  </tbody>\n",
       "</table>\n",
       "</div>"
      ],
      "text/plain": [
       "   accuracy  precision    recall        f1 model\n",
       "0  0.610637   0.586815  0.561606  0.563888   MLP\n",
       "1  0.546894   0.517343  0.500465  0.501123   KNN\n",
       "2  0.617540   0.592400  0.574381  0.574275   SVC\n",
       "3  0.474624   0.454638  0.455790  0.454898    DT\n",
       "4  0.581811   0.574782  0.529195  0.523131    RF"
      ]
     },
     "metadata": {},
     "execution_count": 18
    }
   ],
   "metadata": {}
  },
  {
   "cell_type": "code",
   "execution_count": 19,
   "source": [
    "results_df.set_index(\"model\").plot.bar(rot=0)"
   ],
   "outputs": [
    {
     "output_type": "execute_result",
     "data": {
      "text/plain": [
       "<matplotlib.axes._subplots.AxesSubplot at 0x7f8cf8c4ce50>"
      ]
     },
     "metadata": {},
     "execution_count": 19
    },
    {
     "output_type": "display_data",
     "data": {
      "image/png": "[encoded data removed]",
      "text/plain": [
       "<Figure size 432x288 with 1 Axes>"
      ]
     },
     "metadata": {
      "needs_background": "light"
     }
    }
   ],
   "metadata": {}
  },
  {
   "cell_type": "code",
   "execution_count": null,
   "source": [],
   "outputs": [],
   "metadata": {}
  }
 ],
 "metadata": {
  "orig_nbformat": 4,
  "language_info": {
   "name": "python",
   "version": "3.7.11",
   "mimetype": "text/x-python",
   "codemirror_mode": {
    "name": "ipython",
    "version": 3
   },
   "pygments_lexer": "ipython3",
   "nbconvert_exporter": "python",
   "file_extension": ".py"
  },
  "kernelspec": {
   "name": "python3",
   "display_name": "Python 3.7.11 64-bit ('transformers': conda)"
  },
  "interpreter": {
   "hash": "c7d87c45efe9b51e1565fe98e10669b070dcdad2a728fa9151544667aca4bb7a"
  }
 },
 "nbformat": 4,
 "nbformat_minor": 2
}